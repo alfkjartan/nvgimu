{
 "cells": [
  {
   "cell_type": "markdown",
   "metadata": {},
   "source": [
    "# Validation of IMU-based calculation\n"
   ]
  },
  {
   "cell_type": "code",
   "execution_count": 1,
   "metadata": {
    "collapsed": false
   },
   "outputs": [],
   "source": [
    "import numpy as np\n",
    "import matplotlib.pyplot as plt\n",
    "import nvg.ximu.ximudata as ximudata\n",
    "import nvg.ximu.compare_to_mocap as compare\n",
    "%matplotlib notebook"
   ]
  },
  {
   "cell_type": "code",
   "execution_count": 2,
   "metadata": {
    "collapsed": true
   },
   "outputs": [],
   "source": [
    "import nvg.io.qualisys_tsv as qtsv"
   ]
  },
  {
   "cell_type": "code",
   "execution_count": null,
   "metadata": {
    "collapsed": true
   },
   "outputs": [],
   "source": [
    "import pdb\n",
    "syncfiles = compare.markerdata_sync_list()\n",
    "compare.check_sync(syncfiles[\"S12\"])"
   ]
  },
  {
   "cell_type": "code",
   "execution_count": 3,
   "metadata": {
    "collapsed": false
   },
   "outputs": [
    {
     "name": "stdout",
     "output_type": "stream",
     "text": [
      "2012-09-24 18:01:45.508000\n",
      "2012-09-24, 16:53:07.554805\n"
     ]
    },
    {
     "ename": "ZeroDivisionError",
     "evalue": "integer division or modulo by zero",
     "output_type": "error",
     "traceback": [
      "\u001b[0;31m---------------------------------------------------------------------------\u001b[0m",
      "\u001b[0;31mZeroDivisionError\u001b[0m                         Traceback (most recent call last)",
      "\u001b[0;32m<ipython-input-3-11ec46dcd472>\u001b[0m in \u001b[0;36m<module>\u001b[0;34m()\u001b[0m\n\u001b[1;32m      1\u001b[0m \u001b[0;32mimport\u001b[0m \u001b[0mpdb\u001b[0m\u001b[0;34m\u001b[0m\u001b[0m\n\u001b[1;32m      2\u001b[0m \u001b[0mmdfiles\u001b[0m \u001b[0;34m=\u001b[0m \u001b[0mcompare\u001b[0m\u001b[0;34m.\u001b[0m\u001b[0mmarkerdata_list\u001b[0m\u001b[0;34m(\u001b[0m\u001b[0;34m)\u001b[0m\u001b[0;34m\u001b[0m\u001b[0m\n\u001b[0;32m----> 3\u001b[0;31m \u001b[0mcompare\u001b[0m\u001b[0;34m.\u001b[0m\u001b[0mplot_marker_data\u001b[0m\u001b[0;34m(\u001b[0m\u001b[0mmdfiles\u001b[0m\u001b[0;34m[\u001b[0m\u001b[0;34m-\u001b[0m\u001b[0;36m1\u001b[0m\u001b[0;34m:\u001b[0m\u001b[0;34m]\u001b[0m\u001b[0;34m)\u001b[0m\u001b[0;34m\u001b[0m\u001b[0m\n\u001b[0m",
      "\u001b[0;32m/home/kjartan/anaconda2/lib/python2.7/site-packages/nvgimu-0.2-py2.7-linux-x86_64.egg/nvg/ximu/compare_to_mocap.pyc\u001b[0m in \u001b[0;36mplot_marker_data\u001b[0;34m(markerdata)\u001b[0m\n\u001b[1;32m    563\u001b[0m         \u001b[0mthighd\u001b[0m \u001b[0;34m=\u001b[0m \u001b[0mthigh\u001b[0m\u001b[0;34m.\u001b[0m\u001b[0mposition\u001b[0m\u001b[0;34m(\u001b[0m\u001b[0mframes2use\u001b[0m\u001b[0;34m)\u001b[0m\u001b[0;34m\u001b[0m\u001b[0m\n\u001b[1;32m    564\u001b[0m \u001b[0;34m\u001b[0m\u001b[0m\n\u001b[0;32m--> 565\u001b[0;31m         \u001b[0;36m1\u001b[0m\u001b[0;34m/\u001b[0m\u001b[0;36m0\u001b[0m\u001b[0;34m\u001b[0m\u001b[0m\n\u001b[0m\u001b[1;32m    566\u001b[0m         \u001b[0mplt\u001b[0m\u001b[0;34m.\u001b[0m\u001b[0mfigure\u001b[0m\u001b[0;34m(\u001b[0m\u001b[0;34m)\u001b[0m\u001b[0;34m\u001b[0m\u001b[0m\n\u001b[1;32m    567\u001b[0m         \u001b[0mplt\u001b[0m\u001b[0;34m.\u001b[0m\u001b[0msubplot\u001b[0m\u001b[0;34m(\u001b[0m\u001b[0;36m2\u001b[0m\u001b[0;34m,\u001b[0m\u001b[0;36m2\u001b[0m\u001b[0;34m,\u001b[0m\u001b[0;36m1\u001b[0m\u001b[0;34m)\u001b[0m\u001b[0;34m\u001b[0m\u001b[0m\n",
      "\u001b[0;31mZeroDivisionError\u001b[0m: integer division or modulo by zero"
     ]
    }
   ],
   "source": [
    "import pdb\n",
    "mdfiles = compare.markerdata_list()\n",
    "compare.plot_marker_data(mdfiles[-1:])"
   ]
  },
  {
   "cell_type": "code",
   "execution_count": 4,
   "metadata": {
    "collapsed": false
   },
   "outputs": [
    {
     "name": "stdout",
     "output_type": "stream",
     "text": [
      "> /home/kjartan/projects/nvgimu/notebooks/build/bdist.linux-x86_64/egg/nvg/ximu/compare_to_mocap.py(565)plot_marker_data()\n",
      "-> 1/0\n",
      "(Pdb) l\n",
      "560  \t        ankled = ankle.position(frames2use)\n",
      "561  \t        kneed = knee.position(frames2use)\n",
      "562  \t        hipd = hip.position(frames2use)\n",
      "563  \t        thighd = thigh.position(frames2use)\n",
      "564  \t\n",
      "565  ->\t        1/0\n",
      "566  \t        plt.figure()\n",
      "567  \t        plt.subplot(2,2,1)\n",
      "568  \t        plt.plot(ankled)\n",
      "569  \t\n",
      "570  \t\n",
      "(Pdb) ankled.shape\n",
      "(3, 0)\n",
      "(Pdb) kneed.shape\n",
      "(3, 0)\n",
      "(Pdb) hipd.shape\n",
      "(3, 0)\n",
      "(Pdb) thighd.shape\n",
      "(3, 0)\n",
      "(Pdb) ankle\n",
      "<nvg.capture.marker.Marker3DOF object at 0x7fa734a86ad0>\n",
      "(Pdb) dir(ankle)\n",
      "['__abstractmethods__', '__class__', '__delattr__', '__dict__', '__doc__', '__format__', '__getattribute__', '__hash__', '__init__', '__metaclass__', '__module__', '__new__', '__reduce__', '__reduce_ex__', '__repr__', '__setattr__', '__sizeof__', '__str__', '__subclasshook__', '__weakref__', '_abc_cache', '_abc_negative_cache', '_abc_negative_cache_version', '_abc_registry', 'acceleration', 'capture', 'endTime', 'id', 'position', 'positionKeyFrames', 'startTime', 'velocity']\n",
      "(Pdb) ankle.startTime\n",
      "0.0\n",
      "(Pdb) ankle.endTime\n",
      "425.6015625\n",
      "(Pdb) dir(md)\n",
      "['__class__', '__delattr__', '__dict__', '__doc__', '__format__', '__getattribute__', '__hash__', '__init__', '__module__', '__new__', '__reduce__', '__reduce_ex__', '__repr__', '__setattr__', '__sizeof__', '__str__', '__subclasshook__', '__weakref__', '_addMarker', '_markers', 'frameCount', 'framePeriod', 'frameRate', 'frameTimes', 'marker', 'markers', 'syncTime', 'timeStamp']\n",
      "(Pdb) md.markers\n",
      "[<nvg.capture.marker.Marker3DOF object at 0x7fa734a86950>, <nvg.capture.marker.Marker3DOF object at 0x7fa76983d1d0>, <nvg.capture.marker.Marker3DOF object at 0x7fa734a869d0>, <nvg.capture.marker.Marker3DOF object at 0x7fa734a86ad0>, <nvg.capture.marker.Marker3DOF object at 0x7fa734a86850>, <nvg.capture.marker.Marker3DOF object at 0x7fa734a86750>, <nvg.capture.marker.Marker3DOF object at 0x7fa734a866d0>, <nvg.capture.marker.Marker3DOF object at 0x7fa734a86550>, <nvg.capture.marker.Marker3DOF object at 0x7fa734a86a50>, <nvg.capture.marker.Marker3DOF object at 0x7fa734a868d0>, <nvg.capture.marker.Marker3DOF object at 0x7fa734a867d0>]\n",
      "(Pdb) md.frameCount\n",
      "54478\n",
      "(Pdb) md.frameRate\n",
      "128\n",
      "(Pdb) md.frameTimes\n",
      "array([  0.00000000e+00,   7.81250000e-03,   1.56250000e-02, ...,\n",
      "         4.25585938e+02,   4.25593750e+02,   4.25601562e+02])\n",
      "(Pdb) md.syncTime\n",
      "datetime.datetime(2012, 9, 24, 16, 53, 7, 554805)\n",
      "(Pdb) md.timeStamp\n",
      "datetime.datetime(2012, 9, 24, 18, 1, 45, 508000)\n",
      "(Pdb) timeSinceSync\n",
      "datetime.timedelta(0, 4117, 953195)\n",
      "(Pdb) firstCycleStart\n",
      "1157.9236641221373\n",
      "(Pdb) lastCycleStart\n",
      "*** NameError: name 'lastCycleStart' is not defined\n",
      "(Pdb) lastCycleEnd\n",
      "1525.4618320610687\n",
      "(Pdb) dir(timeSinceSync)\n",
      "['__abs__', '__add__', '__class__', '__delattr__', '__div__', '__doc__', '__eq__', '__floordiv__', '__format__', '__ge__', '__getattribute__', '__gt__', '__hash__', '__init__', '__le__', '__lt__', '__mul__', '__ne__', '__neg__', '__new__', '__nonzero__', '__pos__', '__radd__', '__rdiv__', '__reduce__', '__reduce_ex__', '__repr__', '__rfloordiv__', '__rmul__', '__rsub__', '__setattr__', '__sizeof__', '__str__', '__sub__', '__subclasshook__', 'days', 'max', 'microseconds', 'min', 'resolution', 'seconds', 'total_seconds']\n",
      "(Pdb) timeSinceSync(seconds)\n",
      "*** NameError: name 'seconds' is not defined\n",
      "(Pdb) timeSinceSync.seconds\n",
      "4117\n",
      "(Pdb) q\n"
     ]
    }
   ],
   "source": [
    "pdb.pm()"
   ]
  },
  {
   "cell_type": "code",
   "execution_count": null,
   "metadata": {
    "collapsed": false
   },
   "outputs": [],
   "source": [
    "compare.main_2017()"
   ]
  },
  {
   "cell_type": "code",
   "execution_count": null,
   "metadata": {
    "collapsed": false
   },
   "outputs": [],
   "source": [
    "#md = qtsv.loadQualisysTSVFile(\"/home/kjartan/Dropbox/projekt/nvg/data/solna09/S7/NVG_2012_S7_sync.tsv\")"
   ]
  },
  {
   "cell_type": "code",
   "execution_count": null,
   "metadata": {
    "collapsed": false
   },
   "outputs": [],
   "source": [
    "#synctime = md.timeStamp + datetime.timedelta(seconds=5199.0/md.frameRate)"
   ]
  },
  {
   "cell_type": "code",
   "execution_count": null,
   "metadata": {
    "collapsed": false
   },
   "outputs": [],
   "source": [
    "a = (1,2,3,4)\n",
    "a[-1:]"
   ]
  },
  {
   "cell_type": "code",
   "execution_count": null,
   "metadata": {
    "collapsed": false
   },
   "outputs": [],
   "source": [
    "import pdb\n",
    "compare.main_2017()"
   ]
  },
  {
   "cell_type": "code",
   "execution_count": null,
   "metadata": {
    "collapsed": false
   },
   "outputs": [],
   "source": [
    "# Check the the correspondence between packet number and time\n",
    "import numpy as np\n",
    "from datetime import datetime, timedelta, date\n",
    "fname = (\"/media/ubuntu-15-10/home/kjartan/nvg/2012-09-19-S4/\" \n",
    "        + \"S4/LA-200/NVG_2012_S4_A_LA_00203_DateTime.csv\")\n",
    "packetTimeRaw = np.loadtxt(fname, dtype=np.int32, delimiter=',', skiprows=1)\n",
    "times = [ datetime(year=pt_[1], month=pt_[2], day=pt_[3], \n",
    "                   hour=pt_[4], minute=pt_[5], second=pt_[6]) \n",
    "         for pt_ in packetTimeRaw ]\n",
    "packetTime = np.asarray([ (packetTimeRaw[k,0]-packetTimeRaw[0,0], \n",
    "                           (times[k]-times[0]).total_seconds()) \n",
    "                         for k in range(len(times))])"
   ]
  },
  {
   "cell_type": "code",
   "execution_count": null,
   "metadata": {
    "collapsed": false
   },
   "outputs": [],
   "source": []
  },
  {
   "cell_type": "code",
   "execution_count": null,
   "metadata": {
    "collapsed": false
   },
   "outputs": [],
   "source": [
    "Dp = (packetTime[-1,0] - packetTime[0,0])\n",
    "Dt = (packetTime[-1,1] - packetTime[0,1])\n",
    "freq = Dp/Dt\n",
    "print freq\n"
   ]
  },
  {
   "cell_type": "code",
   "execution_count": null,
   "metadata": {
    "collapsed": true
   },
   "outputs": [],
   "source": []
  }
 ],
 "metadata": {
  "kernelspec": {
   "display_name": "Python 2",
   "language": "python",
   "name": "python2"
  },
  "language_info": {
   "codemirror_mode": {
    "name": "ipython",
    "version": 2
   },
   "file_extension": ".py",
   "mimetype": "text/x-python",
   "name": "python",
   "nbconvert_exporter": "python",
   "pygments_lexer": "ipython2",
   "version": "2.7.13"
  }
 },
 "nbformat": 4,
 "nbformat_minor": 0
}
