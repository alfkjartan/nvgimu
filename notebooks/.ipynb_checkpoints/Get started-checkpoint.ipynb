{
 "cells": [
  {
   "cell_type": "markdown",
   "metadata": {},
   "source": [
    "# Getting started with the analysis of nvg data\n",
    "This notebook assumes that data exists in a database in the hdf5 format. For instructions how to set up the database with data see [../readme.md].\n",
    "\n",
    "## Import modules"
   ]
  },
  {
   "cell_type": "code",
   "execution_count": 2,
   "metadata": {
    "collapsed": true
   },
   "outputs": [],
   "source": [
    "import numpy as np\n",
    "import matplotlib.pyplot as plt\n",
    "import nvg.ximu.ximudata as ximudata\n",
    "%matplotlib notebook"
   ]
  },
  {
   "cell_type": "markdown",
   "metadata": {},
   "source": [
    "## Load the database"
   ]
  },
  {
   "cell_type": "code",
   "execution_count": 4,
   "metadata": {
    "collapsed": false
   },
   "outputs": [],
   "source": [
    "dbfilename = \"/home/kjartan/Dropbox/Public/nvg201209.hdf5\"\n",
    "db = ximudata.NVGData(dbfilename);"
   ]
  },
  {
   "cell_type": "markdown",
   "metadata": {},
   "source": [
    "## Explore contents of the database file"
   ]
  },
  {
   "cell_type": "code",
   "execution_count": 20,
   "metadata": {
    "collapsed": false
   },
   "outputs": [
    {
     "name": "stdout",
     "output_type": "stream",
     "text": [
      "('Subjects: ', [u'S10', u'S11', u'S12', u'S2', u'S3', u'S4', u'S5', u'S6', u'S7', u'S8', u'S9'])\n",
      "('Trials: ', [u'B', u'D', u'M', u'N'])\n",
      "('IMUs: ', [u'B', u'LA', u'LH', u'LT', u'N', u'RA', u'RH', u'RT'])\n",
      "<class 'h5py._hl.dataset.Dataset'>\n"
     ]
    },
    {
     "data": {
      "text/plain": [
       "(87243, 10)"
      ]
     },
     "execution_count": 20,
     "metadata": {},
     "output_type": "execute_result"
    }
   ],
   "source": [
    "dbfile = db.hdfFile;\n",
    "print(\"Subjects: \",  dbfile.keys())\n",
    "print(\"Trials: \", dbfile['S5'].keys())\n",
    "print(\"IMUs: \", dbfile['S5/B'].keys())\n",
    "print type(dbfile['S5/B/N'])\n",
    "dbfile['S5/B/N'].shape\n"
   ]
  },
  {
   "cell_type": "code",
   "execution_count": null,
   "metadata": {
    "collapsed": true
   },
   "outputs": [],
   "source": []
  }
 ],
 "metadata": {
  "kernelspec": {
   "display_name": "Python 2",
   "language": "python",
   "name": "python2"
  },
  "language_info": {
   "codemirror_mode": {
    "name": "ipython",
    "version": 2
   },
   "file_extension": ".py",
   "mimetype": "text/x-python",
   "name": "python",
   "nbconvert_exporter": "python",
   "pygments_lexer": "ipython2",
   "version": "2.7.12"
  }
 },
 "nbformat": 4,
 "nbformat_minor": 0
}
