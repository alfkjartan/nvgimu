{
 "cells": [
  {
   "cell_type": "markdown",
   "metadata": {},
   "source": [
    "# Validation of IMU-based calculation\n"
   ]
  },
  {
   "cell_type": "code",
   "execution_count": 1,
   "metadata": {
    "collapsed": false
   },
   "outputs": [],
   "source": [
    "import numpy as np\n",
    "import matplotlib.pyplot as plt\n",
    "\n",
    "import nvg.ximu.ximudata as ximudata\n",
    "import nvg.ximu.compare_to_mocap as compare\n",
    "%matplotlib notebook"
   ]
  },
  {
   "cell_type": "code",
   "execution_count": 2,
   "metadata": {
    "collapsed": false
   },
   "outputs": [
    {
     "name": "stdout",
     "output_type": "stream",
     "text": [
      "<HDF5 group \"/S12/standingReference\" (8 members)>\n"
     ]
    }
   ],
   "source": [
    "sdta = compare.xdb.hdfFile[\"S12\"][\"standingReference\"]\n",
    "print sdta\n"
   ]
  },
  {
   "cell_type": "code",
   "execution_count": null,
   "metadata": {
    "collapsed": false
   },
   "outputs": [],
   "source": [
    "compare.xdb.set_standing_reference()"
   ]
  },
  {
   "cell_type": "code",
   "execution_count": null,
   "metadata": {
    "collapsed": false
   },
   "outputs": [],
   "source": [
    "compare.xdb._pick_standing_reference(\"S12\", \"N\")"
   ]
  },
  {
   "cell_type": "code",
   "execution_count": null,
   "metadata": {
    "collapsed": true
   },
   "outputs": [],
   "source": [
    "import nvg.io.qualisys_tsv as qtsv"
   ]
  },
  {
   "cell_type": "code",
   "execution_count": null,
   "metadata": {
    "collapsed": false
   },
   "outputs": [],
   "source": [
    "compare.xdb.estimate_joint_axes(\"S4\", \"N\", [\"LA\", \"LT\"])"
   ]
  },
  {
   "cell_type": "code",
   "execution_count": null,
   "metadata": {
    "collapsed": false
   },
   "outputs": [],
   "source": [
    "compare.xdb.estimate_joint_center(\"S5\", \"N\", [\"LA\", \"LT\"], startTime=220, anTime=40)"
   ]
  },
  {
   "cell_type": "markdown",
   "metadata": {},
   "source": [
    "\n"
   ]
  },
  {
   "cell_type": "code",
   "execution_count": null,
   "metadata": {
    "collapsed": false
   },
   "outputs": [],
   "source": [
    "import pdb\n",
    "#compare.xdb.rotationEstimator = compare.xdb.GyroIntegratorOrientation(262.)\n",
    "compdata = compare.markerdata_list()\n",
    "compare.main_2017(compdata[-1:], imu=\"LA\", markers=[\"ANKLE\", \"KNEE\"], \n",
    "                  anTime=40, gThreshold=5e-1, lambda_gyro=1, \n",
    "                  lambda_incl=1,\n",
    "                  var_angvel=1, var_incl=1,\n",
    "                  resetAtIC=True, useCyclic=True)"
   ]
  },
  {
   "cell_type": "code",
   "execution_count": null,
   "metadata": {
    "collapsed": false
   },
   "outputs": [],
   "source": [
    "import pdb\n",
    "mdfiles = compare.markerdata_list()\n",
    "compare.plot_marker_data(mdfiles[-1:], startTime=120, anTime=180)"
   ]
  },
  {
   "cell_type": "code",
   "execution_count": null,
   "metadata": {
    "collapsed": false
   },
   "outputs": [],
   "source": [
    "pdb.pm()"
   ]
  },
  {
   "cell_type": "code",
   "execution_count": null,
   "metadata": {
    "collapsed": false
   },
   "outputs": [],
   "source": [
    "#md = qtsv.loadQualisysTSVFile(\"/home/kjartan/Dropbox/projekt/nvg/data/solna09/S7/NVG_2012_S7_sync.tsv\")"
   ]
  },
  {
   "cell_type": "code",
   "execution_count": null,
   "metadata": {
    "collapsed": false
   },
   "outputs": [],
   "source": [
    "#synctime = md.timeStamp + datetime.timedelta(seconds=5199.0/md.frameRate)"
   ]
  },
  {
   "cell_type": "code",
   "execution_count": null,
   "metadata": {
    "collapsed": false
   },
   "outputs": [],
   "source": [
    "a = (1,2,3,4)\n",
    "a[-1:]\n",
    "np.diff(a)"
   ]
  },
  {
   "cell_type": "code",
   "execution_count": null,
   "metadata": {
    "collapsed": false
   },
   "outputs": [],
   "source": [
    "import pdb\n",
    "compare.main_2017()"
   ]
  },
  {
   "cell_type": "code",
   "execution_count": null,
   "metadata": {
    "collapsed": false
   },
   "outputs": [],
   "source": [
    "# Check the the correspondence between packet number and time\n",
    "import numpy as np\n",
    "from datetime import datetime, timedelta, date\n",
    "fname = (\"/media/ubuntu-15-10/home/kjartan/nvg/2012-09-19-S4/\" \n",
    "        + \"S4/LA-200/NVG_2012_S4_A_LA_00203_DateTime.csv\")\n",
    "packetTimeRaw = np.loadtxt(fname, dtype=np.int32, delimiter=',', skiprows=1)\n",
    "times = [ datetime(year=pt_[1], month=pt_[2], day=pt_[3], \n",
    "                   hour=pt_[4], minute=pt_[5], second=pt_[6]) \n",
    "         for pt_ in packetTimeRaw ]\n",
    "packetTime = np.asarray([ (packetTimeRaw[k,0]-packetTimeRaw[0,0], \n",
    "                           (times[k]-times[0]).total_seconds()) \n",
    "                         for k in range(len(times))])"
   ]
  },
  {
   "cell_type": "code",
   "execution_count": null,
   "metadata": {
    "collapsed": false
   },
   "outputs": [],
   "source": []
  },
  {
   "cell_type": "code",
   "execution_count": null,
   "metadata": {
    "collapsed": false
   },
   "outputs": [],
   "source": [
    "Dp = (packetTime[-1,0] - packetTime[0,0])\n",
    "Dt = (packetTime[-1,1] - packetTime[0,1])\n",
    "freq = Dp/Dt\n",
    "print freq\n"
   ]
  },
  {
   "cell_type": "code",
   "execution_count": null,
   "metadata": {
    "collapsed": false
   },
   "outputs": [],
   "source": [
    "from datetime import datetime, timedelta, date\n",
    "timestampSync = datetime.strptime(\"2012-09-24, 16:52:59\", \"%Y-%m-%d, %H:%M:%S\")\n",
    "timestampRef = datetime.strptime(\"2012-09-24, 18:01:45\", \"%Y-%m-%d, %H:%M:%S\")\n",
    "\n",
    "floatSync = 267828.75835598\n",
    "floatRef = 271955.08704553\n",
    "\n",
    "dTime = timestampRef - timestampSync\n",
    "dTimeFloat = floatRef - floatSync\n",
    "\n",
    "print dTime\n",
    "print dTimeFloat"
   ]
  },
  {
   "cell_type": "code",
   "execution_count": null,
   "metadata": {
    "collapsed": false
   },
   "outputs": [],
   "source": [
    "dTime.total_seconds()"
   ]
  },
  {
   "cell_type": "code",
   "execution_count": null,
   "metadata": {
    "collapsed": false
   },
   "outputs": [],
   "source": [
    "sfreq = compare.xdb.hdfFile.attrs['packetNumbersPerSecond']\n",
    "print sfreq\n",
    "type(sfreq)"
   ]
  },
  {
   "cell_type": "code",
   "execution_count": null,
   "metadata": {
    "collapsed": false
   },
   "outputs": [],
   "source": [
    "startTime = -120\n",
    "anTime = 120\n",
    "[la, t, s] = compare.xdb.get_imu_data(\"S12\", \"D\", \"LA\", \n",
    "                                      startTime=startTime, anTime=anTime)\n",
    "[ls, t, s] = compare.xdb.get_imu_data(\"S12\", \"D\", \"RA\", \n",
    "                                      startTime=startTime, anTime=anTime)\n",
    "accLA = la[:, 4:7]\n",
    "accLT = ls[:,4:7]\n",
    "plt.figure()\n",
    "#plt.plot(np.mean(accLA**2, axis=1))\n",
    "#plt.plot(np.mean(accLT**2, axis=1))\n",
    "#plt.plot(accLA[:,-1])\n",
    "#plt.plot(accLT[:,-1])\n",
    "plt.subplot(211)\n",
    "plt.plot(la[:,1:4])\n",
    "plt.plot(ls[:,1:4])\n",
    "plt.subplot(212)\n",
    "plt.plot(la[:,4:7])\n",
    "plt.plot(ls[:,4:7])\n",
    "\n"
   ]
  },
  {
   "cell_type": "code",
   "execution_count": null,
   "metadata": {
    "collapsed": false
   },
   "outputs": [],
   "source": [
    "gdir=np.mean(la[14000:140020, 4:7], axis=0)\n",
    "print gdir\n",
    "np.arccos(np.dot(gdir, [-1., 0, 0]))*180/np.pi"
   ]
  },
  {
   "cell_type": "code",
   "execution_count": null,
   "metadata": {
    "collapsed": false
   },
   "outputs": [],
   "source": [
    "syncLT = compare.xdb.get_PN_at_sync(\"S4\",\"LT\")\n",
    "syncLA = compare.xdb.get_PN_at_sync(\"S4\",\"LA\")\n",
    "\n",
    "print syncLT-syncLA\n",
    "print ls[0,0] - la[0,0]"
   ]
  },
  {
   "cell_type": "code",
   "execution_count": null,
   "metadata": {
    "collapsed": false
   },
   "outputs": [],
   "source": [
    "import itertools\n",
    "import pdb\n",
    "[la, t, s] = compare.xdb.get_imu_data(\"S10\", \"N\", \"LA\", split=True)\n",
    "[lt, t, s] = compare.xdb.get_imu_data(\"S10\", \"N\", \"RA\", split=True)\n",
    "plt.figure()\n",
    "for (la_, lt_) in itertools.izip(la[:40], lt[:40]):\n",
    "    accLA = la_[:, 4:7]\n",
    "    accLT = lt_[:,4:7]\n",
    "    plt.subplot(211)\n",
    "    #plt.plot(np.mean(accLA**2, axis=1))\n",
    "    plt.plot(accLA[:,-1])\n",
    "    plt.subplot(212)\n",
    "    #plt.plot(np.mean(accLT**2, axis=1))\n",
    "    plt.plot(accLT[:,-1])\n"
   ]
  },
  {
   "cell_type": "code",
   "execution_count": null,
   "metadata": {
    "collapsed": false
   },
   "outputs": [],
   "source": [
    "[la, t, s] = compare.xdb.get_imu_data(\"S4\", \"D\", \"LA\", startTime=None, anTime=120)\n",
    "la"
   ]
  },
  {
   "cell_type": "code",
   "execution_count": null,
   "metadata": {
    "collapsed": false
   },
   "outputs": [],
   "source": [
    "print la[0,0]\n",
    "print syncLA"
   ]
  },
  {
   "cell_type": "code",
   "execution_count": null,
   "metadata": {
    "collapsed": false
   },
   "outputs": [],
   "source": [
    "\n",
    "[ra, t, s] = compare.xdb.get_imu_data(\"S4\", \"D\", \"RA\")\n",
    "accLA = la[:, 4:7]\n",
    "accLT = ls[:,4:7]\n",
    "plt.figure()\n",
    "plt.plot(np.mean(accLA**2, axis=1))\n",
    "plt.plot(np.mean(accLT**2, axis=1))"
   ]
  },
  {
   "cell_type": "code",
   "execution_count": null,
   "metadata": {
    "collapsed": false
   },
   "outputs": [],
   "source": [
    "ximudata.plot_sync()"
   ]
  },
  {
   "cell_type": "code",
   "execution_count": null,
   "metadata": {
    "collapsed": false
   },
   "outputs": [],
   "source": [
    "None < 0"
   ]
  },
  {
   "cell_type": "code",
   "execution_count": null,
   "metadata": {
    "collapsed": false
   },
   "outputs": [],
   "source": [
    "subj = compare.xdb.hdfFile['S4']\n",
    "len(subj)"
   ]
  },
  {
   "cell_type": "code",
   "execution_count": null,
   "metadata": {
    "collapsed": true
   },
   "outputs": [],
   "source": [
    "imus = compare.xdb.hdfFile['S4']['N']"
   ]
  },
  {
   "cell_type": "code",
   "execution_count": null,
   "metadata": {
    "collapsed": false
   },
   "outputs": [],
   "source": [
    "imus"
   ]
  },
  {
   "cell_type": "code",
   "execution_count": null,
   "metadata": {
    "collapsed": false
   },
   "outputs": [],
   "source": [
    "for k in imus.iterkeys():\n",
    "    print k\n",
    "\n"
   ]
  },
  {
   "cell_type": "code",
   "execution_count": null,
   "metadata": {
    "collapsed": false
   },
   "outputs": [],
   "source": [
    "a = np.arange(12)\n",
    "a.shape=(4,3)\n",
    "\n",
    "v = np.array([1,1,1])\n",
    "\n",
    "np.cross(a, v)\n",
    "print a"
   ]
  },
  {
   "cell_type": "code",
   "execution_count": null,
   "metadata": {
    "collapsed": false
   },
   "outputs": [],
   "source": [
    "print a[:-1,-1]\n",
    "print a[:-1, -1][::-1]\n"
   ]
  },
  {
   "cell_type": "code",
   "execution_count": null,
   "metadata": {
    "collapsed": false
   },
   "outputs": [],
   "source": [
    "a = np.arange(12).reshape(4,3)\n",
    "print np.linalg.norm(a, axis=1)\n",
    "x = np.arange(3)\n",
    "y = np.arange(3,6)\n",
    "z = np.arange(6,9)\n",
    "print np.stack( (x,y,z), axis=-1)"
   ]
  },
  {
   "cell_type": "code",
   "execution_count": null,
   "metadata": {
    "collapsed": false
   },
   "outputs": [],
   "source": [
    "np.linalg.norm([0,1,2])"
   ]
  },
  {
   "cell_type": "code",
   "execution_count": null,
   "metadata": {
    "collapsed": false
   },
   "outputs": [],
   "source": [
    "a = np.arange(12)\n",
    "ind = np.where(np.logical_and(a>4, a<9) )\n",
    "a[ind]"
   ]
  },
  {
   "cell_type": "code",
   "execution_count": null,
   "metadata": {
    "collapsed": false
   },
   "outputs": [],
   "source": [
    "b = a.reshape(4,3)\n",
    "np.dot(b, [1,1,1])"
   ]
  },
  {
   "cell_type": "code",
   "execution_count": null,
   "metadata": {
    "collapsed": false
   },
   "outputs": [],
   "source": [
    "b"
   ]
  },
  {
   "cell_type": "code",
   "execution_count": null,
   "metadata": {
    "collapsed": false
   },
   "outputs": [],
   "source": [
    "np.sum(b, axis=1)"
   ]
  },
  {
   "cell_type": "code",
   "execution_count": null,
   "metadata": {
    "collapsed": false
   },
   "outputs": [],
   "source": [
    "np.arctan2(Out[14], [0,0,0,0])"
   ]
  },
  {
   "cell_type": "code",
   "execution_count": null,
   "metadata": {
    "collapsed": true
   },
   "outputs": [],
   "source": [
    "b = {(\"Hej\", \"ha\"):42, (\"d\",\"ha\"):\"s\"}"
   ]
  },
  {
   "cell_type": "code",
   "execution_count": null,
   "metadata": {
    "collapsed": false
   },
   "outputs": [],
   "source": [
    "for (s_, t_) in b.keys():\n",
    "    print s_\n",
    "    print b[(s_, t_)]\n"
   ]
  },
  {
   "cell_type": "code",
   "execution_count": null,
   "metadata": {
    "collapsed": false
   },
   "outputs": [],
   "source": [
    "for imu_ in compare.xdb.hdfFile[\"S4\"][\"N\"]:\n",
    "    print imu_\n"
   ]
  },
  {
   "cell_type": "code",
   "execution_count": null,
   "metadata": {
    "collapsed": false
   },
   "outputs": [],
   "source": [
    "s = \"123,145.0, 150\"\n",
    "s1, s2, s3 = s.split(\",\")"
   ]
  },
  {
   "cell_type": "code",
   "execution_count": null,
   "metadata": {
    "collapsed": false
   },
   "outputs": [],
   "source": [
    "start = int(s2)\n",
    "print start"
   ]
  },
  {
   "cell_type": "code",
   "execution_count": null,
   "metadata": {
    "collapsed": false
   },
   "outputs": [],
   "source": [
    "min(4, 14)"
   ]
  },
  {
   "cell_type": "code",
   "execution_count": null,
   "metadata": {
    "collapsed": true
   },
   "outputs": [],
   "source": []
  }
 ],
 "metadata": {
  "kernelspec": {
   "display_name": "Python 2",
   "language": "python",
   "name": "python2"
  },
  "language_info": {
   "codemirror_mode": {
    "name": "ipython",
    "version": 2
   },
   "file_extension": ".py",
   "mimetype": "text/x-python",
   "name": "python",
   "nbconvert_exporter": "python",
   "pygments_lexer": "ipython2",
   "version": "2.7.13"
  }
 },
 "nbformat": 4,
 "nbformat_minor": 0
}
